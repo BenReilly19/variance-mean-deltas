{
 "cells": [
  {
   "cell_type": "code",
   "execution_count": 1,
   "metadata": {},
   "outputs": [],
   "source": [
    "import numpy as np"
   ]
  },
  {
   "cell_type": "code",
   "execution_count": 6,
   "metadata": {},
   "outputs": [],
   "source": [
    "# Let A = state n-1 and B = state n "
   ]
  },
  {
   "cell_type": "code",
   "execution_count": 16,
   "metadata": {},
   "outputs": [],
   "source": [
    "A = np.array([1., 3., 6., 4., 6., 9., 5.])\n",
    "\n",
    "NEWVALUE = 295.\n",
    "\n",
    "B = np.append(A, NEWVALUE)"
   ]
  },
  {
   "cell_type": "markdown",
   "metadata": {},
   "source": [
    "Mean test"
   ]
  },
  {
   "cell_type": "code",
   "execution_count": 17,
   "metadata": {},
   "outputs": [
    {
     "name": "stdout",
     "output_type": "stream",
     "text": [
      "41.125 40.51785714285714\n"
     ]
    }
   ],
   "source": [
    "mean_A = A.mean()\n",
    "\n",
    "lenA = len(A)\n",
    "\n",
    "\n",
    "mean_B = B.mean()\n",
    "\n",
    "\n",
    "\n",
    "\n",
    "calc_mean_B = ((mean_A * (lenA - 1)) + NEWVALUE) / (lenA + 1)\n",
    "\n",
    "print(mean_B, calc_mean_B)"
   ]
  },
  {
   "cell_type": "markdown",
   "metadata": {},
   "source": [
    "Variance test"
   ]
  },
  {
   "cell_type": "code",
   "execution_count": 19,
   "metadata": {},
   "outputs": [
    {
     "name": "stdout",
     "output_type": "stream",
     "text": [
      "9212.359375 9256.352450801749\n"
     ]
    }
   ],
   "source": [
    "var_A = A.var()\n",
    "\n",
    "\n",
    "var_B = B.var()\n",
    "\n",
    "\n",
    "calc_var_B = ((var_A * (lenA - 1)) + (NEWVALUE - calc_mean_B)**2) / lenA\n",
    "\n",
    "\n",
    "print(var_B, calc_var_B)"
   ]
  },
  {
   "cell_type": "code",
   "execution_count": 22,
   "metadata": {},
   "outputs": [
    {
     "name": "stdout",
     "output_type": "stream",
     "text": [
      "0.49947299918817206 0.24648790248465197 0.06723953793548414 0.06484589596376743\n"
     ]
    }
   ],
   "source": [
    "ls = np.random.rand(50)\n",
    "\n",
    "\n",
    "ls_truemean = ls.mean()\n",
    "ls_truevar = ls.var()\n",
    "\n",
    "\n",
    "meanlast = None\n",
    "varlast = None\n",
    "\n",
    "for i in range(len(ls)):\n",
    "\n",
    "  x = ls[i]\n",
    "\n",
    "  if i == 0:\n",
    "    meanlast = ls[i]\n",
    "    varlast = 0\n",
    "\n",
    "\n",
    "  else:\n",
    "    meanlast = ((meanlast * (i - 1)) + x) / (i + 1)\n",
    "\n",
    "    varlast =( (varlast * (i-1) ) + (x - meanlast)**2 ) / (i + 1)\n",
    "\n",
    "\n",
    "print(ls_truemean, meanlast, ls_truevar, varlast)\n",
    "  "
   ]
  },
  {
   "cell_type": "code",
   "execution_count": null,
   "metadata": {},
   "outputs": [],
   "source": []
  }
 ],
 "metadata": {
  "kernelspec": {
   "display_name": "Python 3.8.8 ('base')",
   "language": "python",
   "name": "python3"
  },
  "language_info": {
   "codemirror_mode": {
    "name": "ipython",
    "version": 3
   },
   "file_extension": ".py",
   "mimetype": "text/x-python",
   "name": "python",
   "nbconvert_exporter": "python",
   "pygments_lexer": "ipython3",
   "version": "3.8.8"
  },
  "orig_nbformat": 4,
  "vscode": {
   "interpreter": {
    "hash": "94f2a76ffbe1ad8d9ee163905647d2befbdfd8683fffbc75e51b10d82a8ca9e4"
   }
  }
 },
 "nbformat": 4,
 "nbformat_minor": 2
}
